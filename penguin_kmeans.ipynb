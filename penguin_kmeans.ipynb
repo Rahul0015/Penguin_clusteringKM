{
 "cells": [
  {
   "cell_type": "code",
   "execution_count": null,
   "id": "0393525d",
   "metadata": {},
   "outputs": [],
   "source": [
    "import seaborn as sns\n",
    "from Ipython.display import HTML"
   ]
  },
  {
   "cell_type": "code",
   "execution_count": null,
   "id": "4705c45e",
   "metadata": {},
   "outputs": [],
   "source": [
    "penguins =sns.load_dataset('penguins')\n",
    "display(penguins.head())\n",
    "\n",
    "image_html=\"\"\"<div"
   ]
  }
 ],
 "metadata": {
  "language_info": {
   "name": "python"
  }
 },
 "nbformat": 4,
 "nbformat_minor": 5
}
